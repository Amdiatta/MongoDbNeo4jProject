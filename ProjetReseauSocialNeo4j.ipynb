{
 "cells": [
  {
   "cell_type": "markdown",
   "metadata": {},
   "source": [
    "## IMPORTER LES BIBLIOTHEQUES"
   ]
  },
  {
   "cell_type": "code",
   "execution_count": 1,
   "metadata": {},
   "outputs": [],
   "source": [
    "from py2neo import Graph\n",
    "import pymongo"
   ]
  },
  {
   "cell_type": "markdown",
   "metadata": {},
   "source": [
    "## FONCTION DE CONECTION A MONGODB"
   ]
  },
  {
   "cell_type": "code",
   "execution_count": 2,
   "metadata": {},
   "outputs": [],
   "source": [
    "def connectToMongoDB():\n",
    "    myclient = pymongo.MongoClient(\"mongodb://localhost:27017/\")\n",
    "    mydb = myclient[\"socialnet\"]\n",
    "    return mydb"
   ]
  },
  {
   "cell_type": "markdown",
   "metadata": {},
   "source": [
    "## FONCTION DE CONNECTION A NEO4J"
   ]
  },
  {
   "cell_type": "code",
   "execution_count": 3,
   "metadata": {},
   "outputs": [],
   "source": [
    "def connectToNeo4j(user, password):\n",
    "    '''\n",
    "    Etablie une connection avec Neo4j.\n",
    "    le username par défaut est is 'neo4j'\n",
    "    '''\n",
    "    url = \"bolt://localhost:7687\"\n",
    "    try:\n",
    "        connection = Graph(url, user=user, password=password)\n",
    "    except:\n",
    "        connection = Graph(url, user=user, password=password)\n",
    "    return connection"
   ]
  },
  {
   "cell_type": "markdown",
   "metadata": {},
   "source": [
    "## FONCTION POUR EVITER DES DOUBLONS"
   ]
  },
  {
   "cell_type": "code",
   "execution_count": 13,
   "metadata": {},
   "outputs": [],
   "source": [
    "def removeExistingData(connection):\n",
    "    '''\n",
    "    Neo4j does not replace a dataset when additional data is added, that is\n",
    "    why we need to remove all existing data before loading the dataset again\n",
    "    '''\n",
    "    connection.run(\"MATCH (n) DETACH DELETE n\")"
   ]
  },
  {
   "cell_type": "markdown",
   "metadata": {},
   "source": [
    "## FONCTION QUI REPREND LES FONCTIONS PRECEDENTES ET ETABLIT LES LIENS ET LES NOEUDS SUR NEO4J"
   ]
  },
  {
   "cell_type": "code",
   "execution_count": 6,
   "metadata": {},
   "outputs": [],
   "source": [
    "def main():\n",
    "    graph = connectToNeo4j(\"neo4j\", \"Peg@sus01\")\n",
    "    removeExistingData(graph)\n",
    "    my_mongodb = connectToMongoDB()\n",
    "\n",
    "    col_users = my_mongodb[\"users\"] #Collection des Utilisateurs\n",
    "    col_posts = my_mongodb[\"posts\"] #Collection Publications\n",
    "\n",
    "    list_users = col_users.find()\n",
    "    list_posts = col_posts.find()\n",
    "\n",
    "    for user in list_users:\n",
    "        #Crétion du noeud utilisateur\n",
    "        user_alias =\"User_\"+user['_id']\n",
    "        query =\"CREATE (\"+user_alias+\":Person {name: $name, firstname : $fname, lastname: $lname, birthday: $bday, identifier: $id})\"\n",
    "        graph.run(query,parameters= { \"name\" : user['pseudo'],\"fname\":user['firstname'], \"lname\":user['lastname'], \"bday\" : user['birthday'], \"id\":user['_id']})\n",
    "        \n",
    "        #creation des liens d'amitíé\n",
    "        for friend_id in user['friends']:\n",
    "            query = \"RETURN exists( (:Person {identifier: $id_userA})-[:AMI]-(:Person {identifier: $id_userB}) )\"\n",
    "           \n",
    "            #Verification de relation dans les deux sens \n",
    "            condition_1 = graph.run(query,parameters = {\"id_userA\": user['_id'] , \"id_userB\": friend_id}).evaluate()\n",
    "            condition_2 = graph.run(query,parameters = {\"id_userA\": friend_id , \"id_userB\": user['_id']}).evaluate()\n",
    "            \n",
    "            #Creation du lien d'amitié si aucun lien existe\n",
    "            if not(condition_1 or condition_2): #Vrai exclusivement si les deux conditions sont fausses\n",
    "                query1 = \"MATCH (a:Person),(b:Person) WHERE a.identifier = $id_user AND b.identifier = $id_friend CREATE (a)-[r:AMI]->(b) RETURN r\"\n",
    "                graph.run(query1, parameters = {\"id_user\":user['_id'],\"id_friend\":friend_id})\n",
    "\n",
    "\n",
    "    for post in list_posts:\n",
    "        #Création du noeud de la publication\n",
    "        title = \"Post_\"+post['_id']\n",
    "        query1 =\"CREATE (\"+title+\":Post {title:$title, images : $img, content: $content, likes: $nbre_like, date: $date})\"       \n",
    "        graph.run(query1,parameters= { \"title\":title, \"img\": post['images'],\"content\": post['content'], \"nbre_like\": len(post['likes']), \"date\": post['date']})\n",
    "        \n",
    "        #Création de la relation publier\n",
    "        query2 = \"MATCH (a:Person),(b:Post) WHERE a.identifier = $id AND b.title = $title CREATE (a)-[r:PUBLIER]->(b) RETURN r\"\n",
    "        graph.run(query2, parameters = {\"id\":post['id_author'],\"title\":title})\n",
    "\n",
    "        #Création de la relation publier\n",
    "        for user_id in post['likes']:\n",
    "            query = \"MATCH (a:Person),(b:Post) WHERE a.identifier = $id AND b.title = $title CREATE (a)-[r:LIKER]->(b) RETURN r\"\n",
    "            graph.run(query, parameters = {\"id\":user_id,\"title\":title})\n",
    "        \n",
    "        #Création de la relation commenter\n",
    "        for comment in post['comment']:\n",
    "            query = \"MATCH (a:Person),(b:Post) WHERE a.identifier = $id AND b.title = $title CREATE (a)-[r:COMMENTER  {content: $content, date: $date}]->(b) RETURN r\"\n",
    "            graph.run(query, parameters = {\"id\":comment['id_user'],\"title\":title, \"content\": comment['comment'], \"date\": comment['date']})\n"
   ]
  },
  {
   "cell_type": "code",
   "execution_count": 10,
   "metadata": {},
   "outputs": [],
   "source": [
    "main()"
   ]
  },
  {
   "cell_type": "code",
   "execution_count": 9,
   "metadata": {
    "collapsed": true
   },
   "outputs": [
    {
     "ename": "SyntaxError",
     "evalue": "invalid syntax (<ipython-input-9-5963be4b5130>, line 2)",
     "output_type": "error",
     "traceback": [
      "\u001b[1;36m  File \u001b[1;32m\"<ipython-input-9-5963be4b5130>\"\u001b[1;36m, line \u001b[1;32m2\u001b[0m\n\u001b[1;33m    OPTIONAL MATCH (n)-[r]-()\u001b[0m\n\u001b[1;37m             ^\u001b[0m\n\u001b[1;31mSyntaxError\u001b[0m\u001b[1;31m:\u001b[0m invalid syntax\n"
     ]
    }
   ],
   "source": [
    "MATCH (n)\n",
    "OPTIONAL MATCH (n)-[r]-()\n",
    "DELETE n,r"
   ]
  },
  {
   "cell_type": "code",
   "execution_count": null,
   "metadata": {},
   "outputs": [],
   "source": []
  }
 ],
 "metadata": {
  "kernelspec": {
   "display_name": "Python 3",
   "language": "python",
   "name": "python3"
  },
  "language_info": {
   "codemirror_mode": {
    "name": "ipython",
    "version": 3
   },
   "file_extension": ".py",
   "mimetype": "text/x-python",
   "name": "python",
   "nbconvert_exporter": "python",
   "pygments_lexer": "ipython3",
   "version": "3.8.3"
  }
 },
 "nbformat": 4,
 "nbformat_minor": 4
}
